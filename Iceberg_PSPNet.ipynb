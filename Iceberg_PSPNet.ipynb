{
  "cells": [
    {
      "cell_type": "code",
      "execution_count": null,
      "metadata": {
        "colab": {
          "base_uri": "https://localhost:8080/"
        },
        "id": "7xDEdoDyfqbX",
        "outputId": "a6ad081c-4045-4259-d57f-86e05c5aa67c"
      },
      "outputs": [
        {
          "name": "stdout",
          "output_type": "stream",
          "text": [
            "Cloning into 'pspnet-pytorch'...\n",
            "remote: Enumerating objects: 372, done.\u001b[K\n",
            "remote: Counting objects: 100% (100/100), done.\u001b[K\n",
            "remote: Compressing objects: 100% (34/34), done.\u001b[K\n",
            "remote: Total 372 (delta 78), reused 82 (delta 66), pack-reused 272\u001b[K\n",
            "Receiving objects: 100% (372/372), 9.28 MiB | 6.13 MiB/s, done.\n",
            "Resolving deltas: 100% (215/215), done.\n",
            "Cloning into 'pytorch-segmentation-utils'...\n",
            "remote: Enumerating objects: 83, done.\u001b[K\n",
            "remote: Counting objects: 100% (83/83), done.\u001b[K\n",
            "remote: Compressing objects: 100% (56/56), done.\u001b[K\n",
            "remote: Total 83 (delta 49), reused 61 (delta 27), pack-reused 0\u001b[K\n",
            "Unpacking objects: 100% (83/83), 10.03 KiB | 570.00 KiB/s, done.\n",
            "/content/pspnet-pytorch\n"
          ]
        }
      ],
      "source": [
        "!git clone https://github.com/bubbliiiing/pspnet-pytorch.git\n",
        "!git clone https://github.com/frasergmasson/pytorch-segmentation-utils.git\n",
        "%cd pspnet-pytorch\n",
        "\n",
        "!cp ../pytorch-segmentation-utils/*.py ."
      ]
    },
    {
      "cell_type": "code",
      "execution_count": null,
      "metadata": {
        "colab": {
          "base_uri": "https://localhost:8080/"
        },
        "id": "9Cg1MKN8rNbp",
        "outputId": "ef756580-9a41-4197-c5f3-c9e693760acc"
      },
      "outputs": [
        {
          "name": "stdout",
          "output_type": "stream",
          "text": [
            "Looking in indexes: https://pypi.org/simple, https://us-python.pkg.dev/colab-wheels/public/simple/\n",
            "Collecting torchinfo\n",
            "  Downloading torchinfo-1.7.2-py3-none-any.whl (22 kB)\n",
            "Installing collected packages: torchinfo\n",
            "Successfully installed torchinfo-1.7.2\n"
          ]
        }
      ],
      "source": [
        "!pip install torchinfo"
      ]
    },
    {
      "cell_type": "code",
      "execution_count": null,
      "metadata": {
        "id": "D7rr5AcsqhWz"
      },
      "outputs": [],
      "source": [
        "!cp /content/drive/MyDrive/3rdYear/Project/Data/masks.zip .\n",
        "!cp /content/drive/MyDrive/3rdYear/Project/Data/images.zip .\n",
        "!unzip masks.zip >> /dev/null\n",
        "!unzip images.zip >> /dev/null"
      ]
    },
    {
      "cell_type": "code",
      "execution_count": null,
      "metadata": {
        "id": "QelSyh35t_T1"
      },
      "outputs": [],
      "source": [
        "!mkdir /content/generated-masks"
      ]
    },
    {
      "cell_type": "code",
      "execution_count": null,
      "metadata": {
        "id": "F5FblrXoqBj-"
      },
      "outputs": [],
      "source": [
        "from nets.pspnet import PSPNet\n",
        "from pair_transform import PairTransform, FunctionalPairTransform\n",
        "from evaluation import pixel_accuracy,tp_ap_all_classes,in_union_all_classes, \\\n",
        "  tp_fp_fn_all_classes, confusions, MetricManager\n",
        "from dataset import ImageMaskDataset\n",
        "from mask_to_img import mask_to_img\n",
        "from weights import calculate_class_weights\n",
        "import os\n",
        "from torchvision.io import read_image\n",
        "import torch.utils.data as tdata\n",
        "import torchvision.transforms as transforms\n",
        "import torchvision.transforms.functional as f_transforms\n",
        "from torchinfo import summary\n",
        "import torch\n",
        "import torch.nn as nn\n",
        "import imageio\n",
        "import numpy as np\n",
        "import matplotlib.pyplot as plt\n",
        "from math import ceil,floor\n",
        "from functools import partial\n",
        "import random\n",
        "import torch.nn.functional as F\n",
        "import cv2\n",
        "import pickle"
      ]
    },
    {
      "cell_type": "code",
      "execution_count": null,
      "metadata": {
        "id": "GIsZgy5thIt7"
      },
      "outputs": [],
      "source": [
        "def random_k_split(k,n):\n",
        "  available_indices = list(range(n))\n",
        "  random.shuffle(available_indices)\n",
        "\n",
        "  return np.array_split(available_indices,k)"
      ]
    },
    {
      "cell_type": "markdown",
      "metadata": {
        "id": "mOKgCa-lpI5M"
      },
      "source": [
        "## Train Loop function"
      ]
    },
    {
      "cell_type": "code",
      "execution_count": null,
      "metadata": {
        "id": "8zBeOjswqBkO"
      },
      "outputs": [],
      "source": [
        "def train(train_loader,test_loader,epochs,metrics,device):\n",
        "  model = PSPNet(num_classes=n_labels,downsample_factor=16)\n",
        "  #Train loop\n",
        "  model.to(device)\n",
        "  n_batches = len(train_loader)\n",
        "\n",
        "  criterion = nn.CrossEntropyLoss(weight= calculate_class_weights(train_set,n_labels,device=device))\n",
        "  optimiser = torch.optim.Adam(model.parameters())\n",
        "  scheduler = torch.optim.lr_scheduler.OneCycleLR(\n",
        "      optimiser,\n",
        "      max_lr =0.002,\n",
        "      epochs = epochs,\n",
        "      steps_per_epoch= n_batches,\n",
        "      anneal_strategy=\"cos\"\n",
        "  )\n",
        "\n",
        "  epoch_losses = []\n",
        "  test_losses = []\n",
        "  for epoch in range(epochs):\n",
        "      #Train\n",
        "      epoch_loss = 0\n",
        "      model.train()\n",
        "      for images,masks in train_loader:\n",
        "          optimiser.zero_grad()\n",
        "          images = images.to(device)\n",
        "          masks = masks.to(device)\n",
        "\n",
        "          predicted = model(images)\n",
        "          loss = criterion(predicted[0],masks)\n",
        "          loss.backward()\n",
        "          optimiser.step()\n",
        "          scheduler.step()\n",
        "\n",
        "          epoch_loss += loss.item()\n",
        "\n",
        "      epoch_loss = epoch_loss/n_batches\n",
        "      epoch_losses.append(epoch_loss)\n",
        "\n",
        "      #Evaluate\n",
        "      model.eval()\n",
        "      test_loss = 0\n",
        "      for _,images,masks in test_loader:\n",
        "        images = images.to(device)\n",
        "        masks = masks.to(device)\n",
        "        predicted_masks = model(images)[0]\n",
        "\n",
        "        metrics.apply_metrics(predicted_masks,masks)\n",
        "        test_loss += criterion(predicted_masks,masks).item()\n",
        "\n",
        "\n",
        "      test_loss = test_loss/len(test_loader)\n",
        "      test_losses.append(test_loss)\n",
        "\n",
        "      if epoch % 20 == 0:\n",
        "        print(f\"[{epoch+1}/{epochs}] Training loss: {epoch_loss}\")\n",
        "        print(f\"Testing loss: {test_loss}\")\n",
        "  return model,epoch_losses, test_losses"
      ]
    },
    {
      "cell_type": "code",
      "execution_count": null,
      "metadata": {
        "id": "GYNypHuxGfCh"
      },
      "outputs": [],
      "source": [
        "label_colours = {\n",
        "    0 : [255,0,255],\n",
        "    1 : [0,255,0],\n",
        "    2 : [0,0,255],\n",
        "    3 : [255,0,0],\n",
        "    4 : [255,255,255],\n",
        "    5 : [0,0,0]\n",
        "}"
      ]
    },
    {
      "cell_type": "code",
      "execution_count": null,
      "metadata": {
        "id": "l9dWYcfKjTay"
      },
      "outputs": [],
      "source": [
        "def change_file_type(filename,extension):\n",
        "  return filename[:-4] + \".\" + extension\n",
        "def evaluate(model,test_loader,metrics,device,output_dir=None):\n",
        "  model.eval()\n",
        "  #Apply metrics\n",
        "  for fnames,images,masks in test_loader:\n",
        "        images = images.to(device)\n",
        "        masks = masks.to(device)\n",
        "        predicted_masks = model(images)[0]\n",
        "\n",
        "        metrics.apply_metrics(predicted_masks,masks)\n",
        "\n",
        "        #Save masks to disk\n",
        "        if output_dir:\n",
        "          for i,predicted_mask in enumerate(predicted_masks):\n",
        "            colour_mask = mask_to_img(predicted_mask,label_colours)\n",
        "            cv2.imwrite(os.path.join(output_dir,\n",
        "                        change_file_type(fnames[i],\"png\")),\n",
        "                        colour_mask)"
      ]
    },
    {
      "cell_type": "markdown",
      "metadata": {
        "id": "QvGpchTApbng"
      },
      "source": [
        "## Real life code"
      ]
    },
    {
      "cell_type": "code",
      "execution_count": null,
      "metadata": {
        "id": "i0ASGnOYsPxW"
      },
      "outputs": [],
      "source": [
        "n_labels = 6\n",
        "image_size = (400,600)\n",
        "\n",
        "batch_size = 9\n",
        "epochs = 200\n",
        "\n",
        "results_file = \"/content/results.pkl\""
      ]
    },
    {
      "cell_type": "code",
      "execution_count": null,
      "metadata": {
        "id": "SADZLQ4OsUQA"
      },
      "outputs": [],
      "source": [
        "pair_transforms =[\n",
        "  PairTransform(\n",
        "    transforms.RandomResizedCrop,\n",
        "    f_transforms.resized_crop,\n",
        "    0.2,\n",
        "    {\"img\":torch.zeros(image_size),\n",
        "    \"scale\":(0.6, 1.0),\n",
        "    \"ratio\":(0.75, 1.3333333333333333)},\n",
        "    {\"size\":image_size}\n",
        "  ),\n",
        "  PairTransform(\n",
        "      transforms.RandomRotation,\n",
        "      f_transforms.rotate,\n",
        "      0.2,\n",
        "      {\"degrees\":[-20,20]}\n",
        "  ),\n",
        "  FunctionalPairTransform(\n",
        "      f_transforms.hflip,\n",
        "      0.2\n",
        "  )\n",
        "]\n",
        "\n",
        "colour_transforms = transforms.Compose([\n",
        "    transforms.RandomApply([\n",
        "        transforms.ColorJitter(brightness=.5, hue=.3,contrast=.3,saturation=0.2)], 0.2)\n",
        "])"
      ]
    },
    {
      "cell_type": "code",
      "execution_count": null,
      "metadata": {
        "id": "_E_yyXJX4oUg"
      },
      "outputs": [],
      "source": [
        "class TaggedDataset(ImageMaskDataset):\n",
        "  def __getitem__(self,idx):\n",
        "    image,mask = super(TaggedDataset,self).__getitem__(idx)\n",
        "    image_file_name = self.image_names[idx]\n",
        "    return image_file_name,image,mask"
      ]
    },
    {
      "cell_type": "code",
      "execution_count": null,
      "metadata": {
        "colab": {
          "base_uri": "https://localhost:8080/"
        },
        "id": "X-3LH7jFqBkH",
        "outputId": "cb60b6de-e4d6-4ccf-88bf-323bc3b481bf"
      },
      "outputs": [
        {
          "name": "stdout",
          "output_type": "stream",
          "text": [
            "54\n"
          ]
        }
      ],
      "source": [
        "dataset = ImageMaskDataset(\"data/imgs\",\"data/masks\",\"_mask\",colour_transforms,pair_transforms)\n",
        "#Dataset without augmentation is used for evaluation\n",
        "no_augment_dataset = TaggedDataset(\"data/imgs\",\"data/masks\",\"_mask\")\n",
        "print(len(dataset))"
      ]
    },
    {
      "cell_type": "code",
      "execution_count": null,
      "metadata": {
        "id": "gcCwo_zUrA0k"
      },
      "outputs": [],
      "source": [
        "labels = [\n",
        "    \"glacier\",\n",
        "    \"iceberg\",\n",
        "    \"growler\",\n",
        "    \"sea\",\n",
        "    \"sky\",\n",
        "    \"background\"\n",
        "]\n",
        "def create_metric_managers():\n",
        "  metrics = MetricManager(labels)\n",
        "  metrics.add_metric(\"pa\",pixel_accuracy)\n",
        "  metrics.add_metric(\"tp_ap\",tp_ap_all_classes,n_labels=n_labels)\n",
        "  metrics.add_metric(\"intersect_union\",in_union_all_classes,n_labels=n_labels)\n",
        "  metrics.add_metric(\"tp_fp_fn\",tp_fp_fn_all_classes,n_labels=n_labels)\n",
        "\n",
        "  test_metrics = MetricManager(labels)\n",
        "  test_metrics.add_metric(\"pa\",pixel_accuracy)\n",
        "  test_metrics.add_metric(\"tp_ap\",tp_ap_all_classes,n_labels=n_labels)\n",
        "  test_metrics.add_metric(\"intersect_union\",in_union_all_classes,n_labels=n_labels)\n",
        "  test_metrics.add_metric(\"tp_fp_fn\",tp_fp_fn_all_classes,n_labels=n_labels)\n",
        "  test_metrics.add_metric(\"confusions\",confusions,n_labels=n_labels)\n",
        "  return metrics,test_metrics"
      ]
    },
    {
      "cell_type": "code",
      "execution_count": null,
      "metadata": {
        "colab": {
          "base_uri": "https://localhost:8080/"
        },
        "id": "JJ56ygPyog6u",
        "outputId": "e237435a-2965-4018-cdfc-0e370fd36655"
      },
      "outputs": [
        {
          "name": "stdout",
          "output_type": "stream",
          "text": [
            "Starting run 1.\n"
          ]
        },
        {
          "name": "stderr",
          "output_type": "stream",
          "text": [
            "Downloading: \"https://github.com/bubbliiiing/pspnet-pytorch/releases/download/v1.0/resnet50s-a75c83cf.pth\" to ./model_data/resnet50s-a75c83cf.pth\n",
            "100%|██████████| 98.2M/98.2M [00:00<00:00, 262MB/s]\n",
            "/usr/local/lib/python3.10/dist-packages/torchvision/transforms/functional.py:1603: UserWarning: The default value of the antialias parameter of all the resizing transforms (Resize(), RandomResizedCrop(), etc.) will change from None to True in v0.17, in order to be consistent across the PIL and Tensor backends. To suppress this warning, directly pass antialias=True (recommended, future default), antialias=None (current default, which means False for Tensors and True for PIL), or antialias=False (only works on Tensors - PIL will still use antialiasing). This also applies if you are using the inference transforms from the models weights: update the call to weights.transforms(antialias=True).\n",
            "  warnings.warn(\n"
          ]
        },
        {
          "name": "stdout",
          "output_type": "stream",
          "text": [
            "[1/200] Training loss: 12.795583724975586\n",
            "Testing loss: 13.032405853271484\n",
            "[21/200] Training loss: 4.674033880233765\n",
            "Testing loss: 4.101904392242432\n",
            "[41/200] Training loss: 4.990269303321838\n",
            "Testing loss: 9.492683410644531\n",
            "[61/200] Training loss: 4.622903764247894\n",
            "Testing loss: 3.013324022293091\n",
            "[81/200] Training loss: 4.059857666492462\n",
            "Testing loss: 3.84609317779541\n",
            "[101/200] Training loss: 2.6122214794158936\n",
            "Testing loss: 3.1662421226501465\n",
            "[121/200] Training loss: 3.022503837943077\n",
            "Testing loss: 2.6720309257507324\n",
            "[141/200] Training loss: 2.9435301423072815\n",
            "Testing loss: 1.9878017902374268\n",
            "[161/200] Training loss: 2.3108799308538437\n",
            "Testing loss: 2.878208875656128\n",
            "[181/200] Training loss: 4.1048808097839355\n",
            "Testing loss: 2.8819708824157715\n",
            "Run 1 complete!\n",
            "Starting run 2.\n",
            "[1/200] Training loss: 9.402369976043701\n",
            "Testing loss: 11.98171615600586\n",
            "[21/200] Training loss: 2.2208251953125\n",
            "Testing loss: 3.9309332370758057\n",
            "[41/200] Training loss: 4.343013286590576\n",
            "Testing loss: 4.463464736938477\n",
            "[61/200] Training loss: 3.1578643918037415\n",
            "Testing loss: 5.762460708618164\n",
            "[81/200] Training loss: 2.7577024698257446\n",
            "Testing loss: 6.563770294189453\n",
            "[101/200] Training loss: 2.901650071144104\n",
            "Testing loss: 11.243328094482422\n",
            "[121/200] Training loss: 2.463889092206955\n",
            "Testing loss: 4.555453777313232\n",
            "[141/200] Training loss: 1.796297013759613\n",
            "Testing loss: 9.432882308959961\n",
            "[161/200] Training loss: 2.218913495540619\n",
            "Testing loss: 9.420428276062012\n",
            "[181/200] Training loss: 1.5835672691464424\n",
            "Testing loss: 12.308162689208984\n",
            "Run 2 complete!\n",
            "Starting run 3.\n",
            "[1/200] Training loss: 12.19423508644104\n",
            "Testing loss: 12.084418296813965\n",
            "[21/200] Training loss: 2.9861495196819305\n",
            "Testing loss: 5.754445552825928\n",
            "[41/200] Training loss: 4.07944530248642\n",
            "Testing loss: 5.103845596313477\n",
            "[61/200] Training loss: 2.6852572560310364\n",
            "Testing loss: 5.648313999176025\n",
            "[81/200] Training loss: 3.130267471075058\n",
            "Testing loss: 7.609132289886475\n",
            "[101/200] Training loss: 3.131553053855896\n",
            "Testing loss: 3.8698818683624268\n",
            "[121/200] Training loss: 2.726078748703003\n",
            "Testing loss: 4.517131328582764\n",
            "[141/200] Training loss: 2.324378252029419\n",
            "Testing loss: 4.718918323516846\n",
            "[161/200] Training loss: 3.0139658451080322\n",
            "Testing loss: 6.396719932556152\n",
            "[181/200] Training loss: 2.835516721010208\n",
            "Testing loss: 3.507683277130127\n",
            "Run 3 complete!\n",
            "Starting run 4.\n",
            "[1/200] Training loss: 12.545179605484009\n",
            "Testing loss: 13.020978927612305\n",
            "[21/200] Training loss: 3.808616280555725\n",
            "Testing loss: 6.338216781616211\n",
            "[41/200] Training loss: 3.2295554280281067\n",
            "Testing loss: 10.372629165649414\n",
            "[61/200] Training loss: 4.03130829334259\n",
            "Testing loss: 4.368770122528076\n",
            "[81/200] Training loss: 5.066097617149353\n",
            "Testing loss: 8.046244621276855\n",
            "[101/200] Training loss: 3.079710006713867\n",
            "Testing loss: 7.594724655151367\n",
            "[121/200] Training loss: 3.296706944704056\n",
            "Testing loss: 8.144973754882812\n",
            "[141/200] Training loss: 1.3734897077083588\n",
            "Testing loss: 8.273714065551758\n",
            "[161/200] Training loss: 3.38594152033329\n",
            "Testing loss: 7.671682357788086\n",
            "[181/200] Training loss: 5.118159294128418\n",
            "Testing loss: 5.893795490264893\n",
            "Run 4 complete!\n"
          ]
        }
      ],
      "source": [
        "k = 6\n",
        "splits = random_k_split(k,len(dataset))\n",
        "device = torch.device('cuda' if torch.cuda.is_available() else 'cpu')\n",
        "\n",
        "output_dic = {\n",
        "  \"k\": 0,\n",
        "  \"splits\" : splits,\n",
        "  \"train_losses\" : [],\n",
        "  \"test_losses\" : [],\n",
        "  \"train_tp_fp_fn\" : [],\n",
        "  \"train_tp_ap\" : [],\n",
        "  \"train_pas\" : [],\n",
        "  \"train_in_union\" : [],\n",
        "  \"test_tp_fp_fn\" : [],\n",
        "  \"test_tp_ap\" : [],\n",
        "  \"test_pas\" : [],\n",
        "  \"test_in_union\" : [],\n",
        "  \"test_confusions\":[]\n",
        "}\n",
        "\n",
        "if os.path.isfile(results_file):\n",
        "  #Load stuff from file\n",
        "  with open(results_file,\"rb\") as f:\n",
        "    output_dic = pickle.load(f)\n",
        "\n",
        "start_split = output_dic[\"k\"]\n",
        "#If run is saved use splits from that\n",
        "splits = output_dic[\"splits\"]\n",
        "\n",
        "#K fold loop\n",
        "for i in range(start_split,k):\n",
        "  print(f\"Starting run {i+1}.\")\n",
        "  test_set = torch.utils.data.Subset(no_augment_dataset,splits[i])\n",
        "  train_indices = [item for sublist in splits[0:i]+splits[i+1:] for item in sublist]\n",
        "  train_set = torch.utils.data.Subset(dataset,train_indices)\n",
        "\n",
        "  train_loader = tdata.DataLoader(train_set,batch_size=batch_size,drop_last=True,shuffle=True)\n",
        "  test_loader = tdata.DataLoader(test_set,batch_size=batch_size,drop_last=True,shuffle=True)\n",
        "\n",
        "  metrics,test_metrics = create_metric_managers()\n",
        "\n",
        "  model, train_loss, test_loss = train(train_loader,test_loader,epochs,metrics,device)\n",
        "  evaluate(model,test_loader,test_metrics,device,output_dir=\"/content/generated-masks\")\n",
        "\n",
        "  output_dic[\"train_losses\"].append(train_loss)\n",
        "  output_dic[\"test_losses\"].append(test_loss)\n",
        "\n",
        "  output_dic[\"train_tp_fp_fn\"].append(metrics.get_metric(\"tp_fp_fn\"))\n",
        "  output_dic[\"train_in_union\"].append(metrics.get_metric(\"intersect_union\"))\n",
        "  output_dic[\"train_tp_ap\"].append(metrics.get_metric(\"tp_ap\"))\n",
        "  output_dic[\"train_pas\"].append(metrics.get_metric(\"pa\"))\n",
        "\n",
        "  output_dic[\"test_tp_fp_fn\"].append(test_metrics.get_metric(\"tp_fp_fn\"))\n",
        "  output_dic[\"test_in_union\"].append(test_metrics.get_metric(\"intersect_union\"))\n",
        "  output_dic[\"test_tp_ap\"].append(test_metrics.get_metric(\"tp_ap\"))\n",
        "  output_dic[\"test_pas\"].append(test_metrics.get_metric(\"pa\"))\n",
        "  output_dic[\"test_confusions\"].append(test_metrics.get_metric(\"confusions\"))\n",
        "  output_dic[\"k\"] = i+1\n",
        "\n",
        "  #Save results after each run\n",
        "  with open(results_file,\"wb\") as f:\n",
        "    pickle.dump(output_dic,f)\n",
        "\n",
        "  !cp \"/content/results.pkl\" \"/content/drive/MyDrive/3rdYear/Project/Data/\"\n",
        "  !mv /content/generated-masks/* /content/drive/MyDrive/3rdYear/Project/Data/generated-masks\n",
        "\n",
        "  print(f\"Run {i+1} complete!\")"
      ]
    },
    {
      "cell_type": "code",
      "execution_count": null,
      "metadata": {
        "id": "BzF3ZfieleuS"
      },
      "outputs": [],
      "source": [
        "with open(\"results.pkl\",'wb') as f:\n",
        "  pickle.dump(output_dic,f)"
      ]
    },
    {
      "cell_type": "code",
      "execution_count": null,
      "metadata": {
        "id": "MRGlQnkamLz0"
      },
      "outputs": [],
      "source": [
        "with open(\"results.pkl\",'rb') as f:\n",
        "  results = pickle.load(f)"
      ]
    },
    {
      "cell_type": "code",
      "execution_count": null,
      "metadata": {
        "colab": {
          "base_uri": "https://localhost:8080/",
          "height": 452
        },
        "id": "DlG0df4Uh-0V",
        "outputId": "ac3e65b8-563f-494c-d4e2-4585308705ec"
      },
      "outputs": [
        {
          "data": {
            "text/plain": [
              "[<matplotlib.lines.Line2D at 0x7f60cc9a2e30>]"
            ]
          },
          "execution_count": 20,
          "metadata": {},
          "output_type": "execute_result"
        },
        {
          "data": {
            "image/png": "[encoded data removed]",
            "text/plain": [
              "<Figure size 640x480 with 1 Axes>"
            ]
          },
          "metadata": {},
          "output_type": "display_data"
        }
      ],
      "source": [
        "plt.plot(np.mean(results[\"train_losses\"],0),c=\"red\")\n",
        "plt.plot(np.mean(results[\"test_losses\"],0),c=\"blue\")"
      ]
    }
  ],
  "metadata": {
    "accelerator": "GPU",
    "colab": {
      "gpuType": "T4",
      "provenance": []
    },
    "gpuClass": "standard",
    "kernelspec": {
      "display_name": "Python 3",
      "name": "python3"
    },
    "language_info": {
      "name": "python"
    }
  },
  "nbformat": 4,
  "nbformat_minor": 0
}
